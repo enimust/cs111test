{
 "cells": [
  {
   "cell_type": "markdown",
   "metadata": {},
   "source": [
    "# Course Intro: Drawing Tinman\n",
    "**Note**: To run the code in a cell (a cell is  a row that has the label **`In [ ]:`** in front of it), select it (by putting the cursor in the cell) and then click the Run button. (It looks like Play in a music player interface).  Alternatively, press Shift+Return in your keyboard. (This is a faster way, try to remember it.)\n",
    "\n",
    "Let's now have some fun drawing with Python.\n",
    "\n",
    "This example is just a preview into what you can do graphically with Python.  Don't panic if the code seems opaque.  It will become a lot clearer once we go through it.\n",
    "\n",
    "## Step 1: Import Turtle Graphics\n",
    "\n",
    "The first thing we need to do is `import` a package named `turtle` that allows us to generate images.\n",
    "\n",
    "You can find documentation on turtle graphics [here](https://docs.python.org/3/library/turtle.html)."
   ]
  },
  {
   "cell_type": "code",
   "execution_count": null,
   "metadata": {},
   "outputs": [],
   "source": [
    "from turtle import * # This line means \"from the package turtle import everything\""
   ]
  },
  {
   "cell_type": "markdown",
   "metadata": {},
   "source": [
    "The CS111 team has also developed another package named `turtleBeads` that makes drawing simple and concise.  Make sure `turtleBeads.py` is in the same folder as this notebook.  Go ahead and import that as well."
   ]
  },
  {
   "cell_type": "code",
   "execution_count": null,
   "metadata": {},
   "outputs": [],
   "source": [
    "from turtleBeads import *"
   ]
  },
  {
   "cell_type": "markdown",
   "metadata": {},
   "source": [
    "## Step 2: Setup the Turtle Screen\n",
    "\n",
    "Before we draw our picture, we generally want to setup our turtle.  Simply execute the code below.  We will learn more about what exactly this code does in the coming classes."
   ]
  },
  {
   "cell_type": "code",
   "execution_count": null,
   "metadata": {},
   "outputs": [],
   "source": [
    "setupTurtle()"
   ]
  },
  {
   "cell_type": "markdown",
   "metadata": {},
   "source": [
    "You should be able to see a window popping up on the screen. If you cannot see it, move around your browser window, because it might be hiding underneath it. It's better to resize your browser to keep them that window on the side.\n",
    "\n",
    "**Note:** The center of the window has the coordinates (0,0). Think of that point as the center of the 2D coordinates system."
   ]
  },
  {
   "cell_type": "markdown",
   "metadata": {},
   "source": [
    "## Step 3: Draw the parts of Tinman one by one\n",
    "\n",
    "First we will draw the head.  Executing the code below will show the turtle drawing a filled circle on the window created on the previous step."
   ]
  },
  {
   "cell_type": "code",
   "execution_count": null,
   "metadata": {},
   "outputs": [],
   "source": [
    "# the head\n",
    "\n",
    "teleport(0, 130)    # Move turtle to the coordinate (0,130)\n",
    "fillcolor('grey')   # Use the color 'grey' to fill the shape\n",
    "begin_fill()        # Ready for filling\n",
    "drawCircle(30)      # Draw a circle with radius 30\n",
    "end_fill()          # Stop filling"
   ]
  },
  {
   "cell_type": "markdown",
   "metadata": {},
   "source": [
    "... and add the rest of the body"
   ]
  },
  {
   "cell_type": "code",
   "execution_count": null,
   "metadata": {},
   "outputs": [],
   "source": [
    "# the hat\n",
    "\n",
    "teleport(-30, 150) # Move turtle to the coordinate (-30, 150)\n",
    "begin_fill()\n",
    "fd(60)             # Turtle moves forward by 60\n",
    "lt(120)            # Turtle moves its direction left by 120 degrees\n",
    "fd(60)\n",
    "lt(120)\n",
    "fd(60)\n",
    "lt(120)\n",
    "end_fill()"
   ]
  },
  {
   "cell_type": "markdown",
   "metadata": {},
   "source": [
    "Next part to draw is the torso:"
   ]
  },
  {
   "cell_type": "code",
   "execution_count": null,
   "metadata": {},
   "outputs": [],
   "source": [
    "# the torso\n",
    "\n",
    "teleport(0, 0)\n",
    "begin_fill()\n",
    "drawRectangle(100, 200)\n",
    "end_fill()"
   ]
  },
  {
   "cell_type": "markdown",
   "metadata": {},
   "source": [
    "Then the legs:"
   ]
  },
  {
   "cell_type": "code",
   "execution_count": null,
   "metadata": {},
   "outputs": [],
   "source": [
    "# the legs\n",
    "\n",
    "teleport(-25, -150)\n",
    "begin_fill()\n",
    "drawRectangle(20, 100)\n",
    "end_fill()\n",
    "\n",
    "teleport(25, -150)\n",
    "begin_fill()\n",
    "drawRectangle(20, 100)\n",
    "end_fill()"
   ]
  },
  {
   "cell_type": "markdown",
   "metadata": {},
   "source": [
    "And then the arms:"
   ]
  },
  {
   "cell_type": "code",
   "execution_count": null,
   "metadata": {},
   "outputs": [],
   "source": [
    "# the arms\n",
    "\n",
    "teleport(-75, 50)\n",
    "begin_fill()\n",
    "drawRectangle(50, 20)\n",
    "end_fill()\n",
    "\n",
    "teleport(75, 50)\n",
    "begin_fill()\n",
    "drawRectangle(50, 20)\n",
    "end_fill()"
   ]
  },
  {
   "cell_type": "markdown",
   "metadata": {},
   "source": [
    "You can also add text to your picture as well."
   ]
  },
  {
   "cell_type": "code",
   "execution_count": null,
   "metadata": {},
   "outputs": [],
   "source": [
    "# the text\n",
    "\n",
    "teleport(0, 200)\n",
    "color('deep pink')\n",
    "style = ('Courier', 40, 'italic')\n",
    "write('If only I had a heart!', font=style, align='center')"
   ]
  },
  {
   "cell_type": "markdown",
   "metadata": {},
   "source": [
    "## Step 4: Decorate the Tinman!\n",
    "\n",
    "Use what you learned above (drawing circles and triangles) to decorate Tinman's drawing. You can draw buttons, pockets, shoes, arms, and so on. Be creative, have fun!"
   ]
  },
  {
   "cell_type": "code",
   "execution_count": null,
   "metadata": {},
   "outputs": [],
   "source": []
  },
  {
   "cell_type": "code",
   "execution_count": null,
   "metadata": {},
   "outputs": [],
   "source": []
  },
  {
   "cell_type": "markdown",
   "metadata": {},
   "source": [
    "## Step 5: Clear the Screen\n",
    "\n",
    "If at any point, you want to clear the screen and start over, run the code below.  "
   ]
  },
  {
   "cell_type": "code",
   "execution_count": null,
   "metadata": {},
   "outputs": [],
   "source": [
    "reset()\n",
    "setupTurtle()"
   ]
  },
  {
   "cell_type": "markdown",
   "metadata": {},
   "source": [
    "That's all for now!  We will do much more with turtle graphics over the course of the semester."
   ]
  }
 ],
 "metadata": {
  "kernelspec": {
   "display_name": "Python 3 (ipykernel)",
   "language": "python",
   "name": "python3"
  },
  "language_info": {
   "codemirror_mode": {
    "name": "ipython",
    "version": 3
   },
   "file_extension": ".py",
   "mimetype": "text/x-python",
   "name": "python",
   "nbconvert_exporter": "python",
   "pygments_lexer": "ipython3",
   "version": "3.11.5"
  }
 },
 "nbformat": 4,
 "nbformat_minor": 4
}
