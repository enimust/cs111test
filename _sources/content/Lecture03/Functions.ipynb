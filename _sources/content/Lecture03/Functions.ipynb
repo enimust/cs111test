{
 "cells": [
  {
   "cell_type": "markdown",
   "metadata": {},
   "source": [
    "# CS111 Lecture: Functions\n",
    "\n",
    "The content of this notebook will be covered over three three lectures. There is no need to try to complete sll of it right away.\n",
    "\n",
    "**Table of Content**\n",
    "\n",
    "[1. Defining your own functions](#sec1)  \n",
    "[2. Multiple parameters](#sec2)  \n",
    "[3. Excercise 1: write your own function `average`](#sec3)  \n",
    "[4. Functions that call other functions](#sec4)  \n",
    "[5. Zero-parameter functions](#sec5)  \n",
    "[6. return vs. print](#sec6)  \n",
    "[7. Functions with side effect and no return value](#sec7)  \n",
    "[8. Exercise 2: Incremental development of functions with number statistics](#sec8)  \n",
    "[9. Exercise 3: Old Macdonald has a farm](#sec9)  \n",
    "[10. Functions with graphics](#sec10)  \n",
    "[11. Exercise 4: Colorful stars](#sec11)  \n",
    "[12. Exercise 5: `drawRectangle`](#sec12)  \n",
    "[13. Exercise 6: `drawSquare`](#sec13)  \n",
    "[14. Fish Tank](#sec14)  \n",
    "[15. Fruitful Graphics](#sec15)  \n",
    "[16. Exercise 7: Fruitful square](#sec16)  \n",
    "[17. Practice Writing Functions](#sec17)"
   ]
  },
  {
   "cell_type": "markdown",
   "metadata": {},
   "source": [
    "<a id=\"sec1\"></a>"
   ]
  },
  {
   "cell_type": "markdown",
   "metadata": {},
   "source": [
    "## 1. Defining your own functions  \n",
    "\n",
    "Functions are a way of abstracting over computational processes by capturing common patterns.  You have already used built-in functions like `len`, `max`, `input` and many more.  Here is a **user-defined function** to compute the square of a number."
   ]
  },
  {
   "cell_type": "code",
   "execution_count": null,
   "metadata": {},
   "outputs": [],
   "source": [
    "def square(x):\n",
    "    \"\"\"A simple user-defined function.\"\"\"\n",
    "    return x * x"
   ]
  },
  {
   "cell_type": "markdown",
   "metadata": {},
   "source": [
    "**Calling or invoking the function:** we can call a function many times, but we define it once."
   ]
  },
  {
   "cell_type": "code",
   "execution_count": null,
   "metadata": {},
   "outputs": [],
   "source": [
    "square(5)"
   ]
  },
  {
   "cell_type": "code",
   "execution_count": null,
   "metadata": {},
   "outputs": [],
   "source": [
    "square(7.5)"
   ]
  },
  {
   "cell_type": "markdown",
   "metadata": {},
   "source": [
    "**Parameters**  \n",
    "\n",
    "A parameter is a variable used in the definition of a function, which will be initialized with an argument value during a function call.\n",
    "\n",
    "The particular name we use for a parameter is irrelevant, as long as we use the name consistently in the function's body."
   ]
  },
  {
   "cell_type": "code",
   "execution_count": null,
   "metadata": {},
   "outputs": [],
   "source": [
    "def square(someNumber):\n",
    "    \"\"\"A similar definition of the function, but using a different parameter name.\"\"\"\n",
    "    return someNumber * someNumber"
   ]
  },
  {
   "cell_type": "markdown",
   "metadata": {},
   "source": [
    "The following function call will generate the same result as the one from the definition of the function with a different parameter name."
   ]
  },
  {
   "cell_type": "code",
   "execution_count": null,
   "metadata": {},
   "outputs": [],
   "source": [
    "square(5)"
   ]
  },
  {
   "cell_type": "markdown",
   "metadata": {},
   "source": [
    "<a id=\"sec2\"></a>\n",
    "## 2. Multiple parameters\n",
    "\n",
    "A function can take as many parameters as needed. They are listed one by one, separated by comma. \n",
    "\n",
    "**Important:** The order of parameters specifies the order of argument values used during the function call."
   ]
  },
  {
   "cell_type": "code",
   "execution_count": null,
   "metadata": {},
   "outputs": [],
   "source": [
    "def energy(mass, velocity):\n",
    "    \"\"\"Calculate kinetic energy\"\"\" \n",
    "    return 0.5 * mass * velocity**2"
   ]
  },
  {
   "cell_type": "markdown",
   "metadata": {},
   "source": [
    "**Problem description:** A 1 kg brick falls off a high roof. It reaches the ground with a velocity of 8.85 m·s<sup>-1</sup>. What is the kinetic energy of the brick when it reaches the ground?\n",
    "\n",
    "**Call the function:**"
   ]
  },
  {
   "cell_type": "code",
   "execution_count": null,
   "metadata": {},
   "outputs": [],
   "source": [
    "energy(1, 8.85)"
   ]
  },
  {
   "cell_type": "code",
   "execution_count": null,
   "metadata": {},
   "outputs": [],
   "source": [
    "import math\n",
    "\n",
    "def distanceBetweenPoints(x1, y1, x2, y2):\n",
    "    \"\"\"Calculate the distance between points \"\"\" \n",
    "    return math.sqrt((x2-x1)**2 + (y2-y1)**2)"
   ]
  },
  {
   "cell_type": "markdown",
   "metadata": {},
   "source": [
    "You are given the following simple graph that depicts two points A and B in the 2-D coordinate system, where every tick is a unit of 1. Call the functioon `distanceBetweenPoints` with the right values to calculate the distance."
   ]
  },
  {
   "cell_type": "markdown",
   "metadata": {},
   "source": [
    "<img src=\"simpleTwoPoints.png\" width=\"250\">"
   ]
  },
  {
   "cell_type": "markdown",
   "metadata": {},
   "source": [
    "**Call the function:**"
   ]
  },
  {
   "cell_type": "code",
   "execution_count": null,
   "metadata": {
    "scrolled": true
   },
   "outputs": [],
   "source": [
    "#Your code here\n"
   ]
  },
  {
   "cell_type": "markdown",
   "metadata": {},
   "source": [
    "<a id=\"sec3\"></a>\n",
    "## 3. Exercise 1: Define your own function: `average` \n",
    "\n",
    "Define a function named `average` that takes two numbers and returns the average of the two. "
   ]
  },
  {
   "cell_type": "code",
   "execution_count": null,
   "metadata": {},
   "outputs": [],
   "source": [
    "# Your code here\n"
   ]
  },
  {
   "cell_type": "markdown",
   "metadata": {},
   "source": [
    "Now try calling your function as below:"
   ]
  },
  {
   "cell_type": "code",
   "execution_count": null,
   "metadata": {},
   "outputs": [],
   "source": [
    "average(4, 5)"
   ]
  },
  {
   "cell_type": "code",
   "execution_count": null,
   "metadata": {},
   "outputs": [],
   "source": [
    "average(10, 12)"
   ]
  },
  {
   "cell_type": "markdown",
   "metadata": {},
   "source": [
    "<a id=\"sec4\"></a>\n",
    "## 4. Functions that call other functions"
   ]
  },
  {
   "cell_type": "markdown",
   "metadata": {},
   "source": [
    "When defining your functions, you can call other functions within the body of your definition."
   ]
  },
  {
   "cell_type": "code",
   "execution_count": null,
   "metadata": {},
   "outputs": [],
   "source": [
    "def favNum(name, num):\n",
    "    return name + \"'s favorite number is \" + str(num)"
   ]
  },
  {
   "cell_type": "code",
   "execution_count": null,
   "metadata": {},
   "outputs": [],
   "source": [
    "favNum('Sohie', 4)"
   ]
  },
  {
   "cell_type": "code",
   "execution_count": null,
   "metadata": {},
   "outputs": [],
   "source": [
    "favNum('Carolyn', 17)"
   ]
  },
  {
   "cell_type": "markdown",
   "metadata": {},
   "source": [
    "We can also call our own user-defined functions like the function ```square``` above.  Make sure that ```square``` above is defined before you try and invoke ```hypotenuse```."
   ]
  },
  {
   "cell_type": "code",
   "execution_count": null,
   "metadata": {},
   "outputs": [],
   "source": [
    "import math\n",
    "\n",
    "def hypotenuse(a, b):\n",
    "    return math.sqrt(square(a) + square(b))"
   ]
  },
  {
   "cell_type": "code",
   "execution_count": null,
   "metadata": {},
   "outputs": [],
   "source": [
    "hypotenuse(3, 4)"
   ]
  },
  {
   "cell_type": "code",
   "execution_count": null,
   "metadata": {},
   "outputs": [],
   "source": [
    "hypotenuse(5, 12)"
   ]
  },
  {
   "cell_type": "markdown",
   "metadata": {},
   "source": [
    "<a id=\"sec5\"></a>\n",
    "## 5. Zero-Parameter Functions"
   ]
  },
  {
   "cell_type": "markdown",
   "metadata": {},
   "source": [
    "Sometimes it's helpful to define functions that have zero parameters.   \n",
    "**Note:** you still need parentheses after the function name when defining and invoking the function."
   ]
  },
  {
   "cell_type": "code",
   "execution_count": null,
   "metadata": {},
   "outputs": [],
   "source": [
    "def rocks():\n",
    "    return \"CS111 rocks!\""
   ]
  },
  {
   "cell_type": "code",
   "execution_count": null,
   "metadata": {},
   "outputs": [],
   "source": [
    "print(rocks(), rocks(), rocks())"
   ]
  },
  {
   "cell_type": "code",
   "execution_count": null,
   "metadata": {},
   "outputs": [],
   "source": [
    "# Invoke the same function multiple times\n",
    "def rocks3():\n",
    "    return rocks() + ' ' + rocks() + ' ' + rocks()"
   ]
  },
  {
   "cell_type": "code",
   "execution_count": null,
   "metadata": {},
   "outputs": [],
   "source": [
    "print(rocks3(), rocks3(), rocks3())"
   ]
  },
  {
   "cell_type": "markdown",
   "metadata": {},
   "source": [
    "Python has some useful built-in functions that take zero parameters, like `random`."
   ]
  },
  {
   "cell_type": "code",
   "execution_count": null,
   "metadata": {},
   "outputs": [],
   "source": [
    "from random import random\n",
    "random()"
   ]
  },
  {
   "cell_type": "markdown",
   "metadata": {},
   "source": [
    "<a id=\"sec6\"></a>\n",
    "##  6. `return` vs. `print`"
   ]
  },
  {
   "cell_type": "markdown",
   "metadata": {},
   "source": [
    "* `return` specifies the result of the function invocation\n",
    "* `print` causes characters to be displayed in the shell.\n"
   ]
  },
  {
   "cell_type": "code",
   "execution_count": null,
   "metadata": {},
   "outputs": [],
   "source": [
    "def square(x):\n",
    "    return x*x\n",
    "\n",
    "def squarePrintArg(x):\n",
    "    print('The argument of square is ' + str(x))\n",
    "    return x*x\n",
    "\n",
    "def printSquare(a):\n",
    "    print('square of ' + str(a) + ' is ' + str(square(a)))"
   ]
  },
  {
   "cell_type": "markdown",
   "metadata": {},
   "source": [
    "Try out the result of the following expressions:"
   ]
  },
  {
   "cell_type": "code",
   "execution_count": null,
   "metadata": {},
   "outputs": [],
   "source": [
    "square(3) + square(4)"
   ]
  },
  {
   "cell_type": "code",
   "execution_count": null,
   "metadata": {},
   "outputs": [],
   "source": [
    "squarePrintArg(3) + squarePrintArg(4)"
   ]
  },
  {
   "cell_type": "code",
   "execution_count": null,
   "metadata": {},
   "outputs": [],
   "source": [
    "printSquare(5)"
   ]
  },
  {
   "cell_type": "markdown",
   "metadata": {},
   "source": [
    "**IMPORTANT**: If a function doesn't return a value (but only prints one as a side effect), don't use it in expressions where  \n",
    "a value is expected. Can you guess what result you'll get below:"
   ]
  },
  {
   "cell_type": "code",
   "execution_count": null,
   "metadata": {},
   "outputs": [],
   "source": [
    "printSquare(3) + printSquare(4)"
   ]
  },
  {
   "cell_type": "markdown",
   "metadata": {},
   "source": [
    "**DIGGING DEEPER**: See the notes on the `None` value and the `NoneType` type to understand in more detail why this happens. "
   ]
  },
  {
   "cell_type": "markdown",
   "metadata": {},
   "source": [
    "We can verify that ``None`` is not a string, by invoking the built-in function `type`:"
   ]
  },
  {
   "cell_type": "code",
   "execution_count": null,
   "metadata": {},
   "outputs": [],
   "source": [
    "type(None)"
   ]
  },
  {
   "cell_type": "code",
   "execution_count": null,
   "metadata": {},
   "outputs": [],
   "source": [
    "type(printSquare(3))"
   ]
  },
  {
   "cell_type": "code",
   "execution_count": null,
   "metadata": {},
   "outputs": [],
   "source": [
    "result = printSquare(3)\n",
    "print(result)"
   ]
  },
  {
   "cell_type": "markdown",
   "metadata": {},
   "source": [
    "<a id=\"sec7\"></a>\n",
    "## 7. Functions with side effect and no return value\n",
    "\n",
    "A function doesn't always need to return a value. It might only display characters on the screen, or perform other side effects."
   ]
  },
  {
   "cell_type": "code",
   "execution_count": null,
   "metadata": {},
   "outputs": [],
   "source": [
    "def printBanner(s):\n",
    "    # 5 stars, 3 spaces, input string, 3 spaces, 5 stars\n",
    "    banner_length = 5 + 3 + len(s) + 3 + 5\n",
    "    print('*' * banner_length)\n",
    "    print('*****' + '   ' + s + '   ' + '*****')\n",
    "    print('*' * banner_length)"
   ]
  },
  {
   "cell_type": "code",
   "execution_count": null,
   "metadata": {},
   "outputs": [],
   "source": [
    "printBanner(\"CS111\")"
   ]
  },
  {
   "cell_type": "markdown",
   "metadata": {},
   "source": [
    "The following `printTimeFromSeconds` function use arithmetic operations and local variables to display the time for a given number of seconds. "
   ]
  },
  {
   "cell_type": "code",
   "execution_count": null,
   "metadata": {},
   "outputs": [],
   "source": [
    "def printTimeFromSeconds(s): # Total seconds\n",
    "    seconds = s % 60 # Remaining seconds\n",
    "    m = s // 60       # Total minutes\n",
    "    minutes = m % 60 # Remaining minutes\n",
    "    h = m // 60       # Total hours\n",
    "    hours = h % 24   # Remaining hours\n",
    "    days = h // 24    # Total days\n",
    "    print(str(s) + ' seconds is equivalent to:')\n",
    "    print(str(days) + ' days')\n",
    "    print(str(hours) + ' hours')\n",
    "    print(str(minutes) + ' minutes')\n",
    "    print(str(seconds) + ' seconds')\n",
    "\n",
    "printTimeFromSeconds(1000000)"
   ]
  },
  {
   "cell_type": "markdown",
   "metadata": {},
   "source": [
    "<a id=\"sec8\"></a>\n",
    "## 8. Exercise 2: Incremental Development of Functions with Number Statistics"
   ]
  },
  {
   "cell_type": "markdown",
   "metadata": {},
   "source": [
    "Incremental development is the process of slowly adding bits of code in a cumulative fashion and testing along the  way to ensure proper functionality.  We will illustrate incremental development using a function that prints out statistics about a number, similar to PS01.\n",
    "\n",
    "Our function should take a single parameter called num and print out some simple statistics about the number.  Below\n",
    "is an example output when our function is given the number three.\n",
    "\n",
    "Your number is 3.  \n",
    "Your number squared is 9.  \n",
    "Your number has a remainder of 1 when divided by 2.\n",
    "\n",
    "In the box below, focus on the header definition and simply have the function print out three and nothing else.  It's always important to start simple."
   ]
  },
  {
   "cell_type": "code",
   "execution_count": null,
   "metadata": {},
   "outputs": [],
   "source": [
    "# create a function called numStats that takes a parameter called num and prints it out\n",
    "# Your code here\n"
   ]
  },
  {
   "cell_type": "markdown",
   "metadata": {},
   "source": [
    "Test to make sure your function properly works by calling it in the box below."
   ]
  },
  {
   "cell_type": "code",
   "execution_count": null,
   "metadata": {},
   "outputs": [],
   "source": [
    "# Call your function and make sure it produces the right output\n",
    "numStats(3)"
   ]
  },
  {
   "cell_type": "markdown",
   "metadata": {},
   "source": [
    "Adjust the body of the function so that it now prints out the first line of text."
   ]
  },
  {
   "cell_type": "code",
   "execution_count": null,
   "metadata": {},
   "outputs": [],
   "source": [
    "# Your code here\n"
   ]
  },
  {
   "cell_type": "markdown",
   "metadata": {},
   "source": [
    "Test to make sure your function properly prints the first line by calling it in the box below."
   ]
  },
  {
   "cell_type": "code",
   "execution_count": null,
   "metadata": {},
   "outputs": [],
   "source": [
    "numStats(3)"
   ]
  },
  {
   "cell_type": "markdown",
   "metadata": {},
   "source": [
    "Add to the body of your function by printing out second line of text."
   ]
  },
  {
   "cell_type": "code",
   "execution_count": null,
   "metadata": {},
   "outputs": [],
   "source": [
    "# Your code here\n"
   ]
  },
  {
   "cell_type": "markdown",
   "metadata": {},
   "source": [
    "Test to make sure your function properly prints the first two lines by calling it in the box below."
   ]
  },
  {
   "cell_type": "code",
   "execution_count": null,
   "metadata": {},
   "outputs": [],
   "source": [
    "numStats(3)"
   ]
  },
  {
   "cell_type": "markdown",
   "metadata": {},
   "source": [
    "Complete the function by adding to the body of your function so that it prints the final line."
   ]
  },
  {
   "cell_type": "code",
   "execution_count": null,
   "metadata": {},
   "outputs": [],
   "source": [
    "# Your code here\n"
   ]
  },
  {
   "cell_type": "markdown",
   "metadata": {},
   "source": [
    "Test to make sure your function properly works."
   ]
  },
  {
   "cell_type": "code",
   "execution_count": null,
   "metadata": {},
   "outputs": [],
   "source": [
    "numStats(3)"
   ]
  },
  {
   "cell_type": "markdown",
   "metadata": {},
   "source": [
    "Incremental development is a key tool for writing code, especially complex code!  We will employ this strategy as the semester progresses and we learn more cool coding concepts."
   ]
  },
  {
   "cell_type": "markdown",
   "metadata": {},
   "source": [
    "<a id=\"sec9\"></a>\n",
    "## 9. Exercise 3: Old Macdonald's Song"
   ]
  },
  {
   "cell_type": "markdown",
   "metadata": {},
   "source": [
    "Define a function named `verse` to generate verses of the song, Old MacDonald had a farm.  \n",
    "What should the function parameters be?\n",
    "\n",
    "Old MacDonald had a farm, EE-I-EE-I-O,  \n",
    "And on that farm he had a **cow**, EE-I-EE-I-O,  \n",
    "With a **moo moo** here and a **moo moo** there  \n",
    "Here a **moo**, there a **moo**, everyone a **moo moo**  \n",
    "Old MacDonald had a farm, EE-I-EE-I-O.  \n",
    "\n",
    "Old MacDonald had a farm, EE-I-EE-I-O,  \n",
    "And on that farm he had a **chicken**, EE-I-EE-I-O,  \n",
    "With a **cluck cluck** here and a **cluck cluck** there  \n",
    "Here a **cluck**, there a **cluck**, everyone a **cluck cluck**  \n",
    "Old MacDonald had a farm, EE-I-EE-I-O.  \n",
    "\n",
    "Old MacDonald had a farm, EE-I-EE-I-O,  \n",
    "And on that farm he had a horse, EE-I-EE-I-O,  \n",
    "With a neigh neigh here and a neigh neigh there  \n",
    "Here a neigh, there a neigh, everyone a neigh neigh  \n",
    "Old MacDonald had a farm, EE-I-EE-I-O.  \n",
    "\n",
    "Old MacDonald had a farm, EE-I-EE-I-O,  \n",
    "And on that farm he had a sheep, EE-I-EE-I-O,  \n",
    "With a baa baa here and a baa baa there  \n",
    "Here a baa, there a baa, everyone a baa baa  \n",
    "Old MacDonald had a farm, EE-I-EE-I-O."
   ]
  },
  {
   "cell_type": "code",
   "execution_count": null,
   "metadata": {},
   "outputs": [],
   "source": [
    "# Flesh out the definition for the function verse\n",
    "\n",
    "def verse(animal, noise):\n",
    "    \"\"\"Writes a verse of five lines for the Old Macdonald song.\"\"\"\n",
    "    \n",
    "    print('Old MacDonald had a farm, EE-I-EE-I-O,')\n",
    "    print('And on that farm he had a ' + animal + ', EE-I-EE-I-O,')\n",
    "    \n",
    "    # Your code here - complete this function body\n"
   ]
  },
  {
   "cell_type": "markdown",
   "metadata": {},
   "source": [
    "Test your function below to generate a few different verses."
   ]
  },
  {
   "cell_type": "code",
   "execution_count": null,
   "metadata": {},
   "outputs": [],
   "source": [
    "verse('cow', 'moo')"
   ]
  },
  {
   "cell_type": "code",
   "execution_count": null,
   "metadata": {},
   "outputs": [],
   "source": [
    "verse('chicken', 'cluck')"
   ]
  },
  {
   "cell_type": "code",
   "execution_count": null,
   "metadata": {},
   "outputs": [],
   "source": [
    "verse('horse', 'neigh')"
   ]
  },
  {
   "cell_type": "markdown",
   "metadata": {},
   "source": [
    "<a id=\"sec10\"></a>\n",
    "## 10. Functions with Graphics\n",
    "\n",
    "We can also use functions to help us easily implement turtle graphics.  But first let's motivate the need for functions.  Here is a turtle picture below that makes three stars.  Remember to first import the necessary turtle modules."
   ]
  },
  {
   "cell_type": "code",
   "execution_count": null,
   "metadata": {},
   "outputs": [],
   "source": [
    "from turtle import *\n",
    "from turtleBeads import *"
   ]
  },
  {
   "cell_type": "code",
   "execution_count": null,
   "metadata": {},
   "outputs": [],
   "source": [
    "reset()\n",
    "setupTurtle()\n",
    "\n",
    "teleport(0, 100)\n",
    "rt(72)\n",
    "fd(100)\n",
    "rt(144)\n",
    "fd(100)\n",
    "rt(144)\n",
    "fd(100)\n",
    "rt(144)\n",
    "fd(100)\n",
    "rt(144)\n",
    "fd(100)\n",
    "rt(72)\n",
    "\n",
    "teleport(200, 100)\n",
    "rt(72)\n",
    "fd(200)\n",
    "rt(144)\n",
    "fd(200)\n",
    "rt(144)\n",
    "fd(200)\n",
    "rt(144)\n",
    "fd(200)\n",
    "rt(144)\n",
    "fd(200)\n",
    "rt(72)\n",
    "\n",
    "teleport(-100, 0)\n",
    "rt(72)\n",
    "fd(300)\n",
    "rt(144)\n",
    "fd(300)\n",
    "rt(144)\n",
    "fd(300)\n",
    "rt(144)\n",
    "fd(300)\n",
    "rt(144)\n",
    "fd(300)\n",
    "rt(72)"
   ]
  },
  {
   "cell_type": "markdown",
   "metadata": {},
   "source": [
    "While the above code works perfectly well, it's rather long and repetitive.  How can we use functions to abstract away the similar elements between these three stars but still capture their differences?  First think about what is similar:\n",
    "\n",
    "+ All of the code above uses the same right turns\n",
    "+ All move forward by the same amount within each star\n",
    "+ All begin by teleporting to the location of the topmost point of the star\n",
    "\n",
    "Now consider what is different:\n",
    "+ The starting location\n",
    "+ the length of each side of the star is different\n",
    "\n",
    "**Key idea**: The body of a function should capture the similarities amongst code and the parameters should express the differences."
   ]
  },
  {
   "cell_type": "code",
   "execution_count": null,
   "metadata": {},
   "outputs": [],
   "source": [
    "def star(startX, startY, length):\n",
    "    teleport(startX, startY)\n",
    "    rt(72)\n",
    "    fd(length)\n",
    "    rt(144)\n",
    "    fd(length)\n",
    "    rt(144)\n",
    "    fd(length)\n",
    "    rt(144)\n",
    "    fd(length)\n",
    "    rt(144)\n",
    "    fd(length)\n",
    "    rt(72)"
   ]
  },
  {
   "cell_type": "markdown",
   "metadata": {},
   "source": [
    "To test out our brand new function, first clear and reset the turtle screen"
   ]
  },
  {
   "cell_type": "code",
   "execution_count": null,
   "metadata": {},
   "outputs": [],
   "source": [
    "reset()\n",
    "setupTurtle()"
   ]
  },
  {
   "cell_type": "markdown",
   "metadata": {},
   "source": [
    "Now let's make three function calls using our new function.  Note that these functions do not need to return a value because we are simply drawing the graphics.  "
   ]
  },
  {
   "cell_type": "code",
   "execution_count": null,
   "metadata": {},
   "outputs": [],
   "source": [
    "star(0, 100, 100)\n",
    "star(200, 100, 200)\n",
    "star(-100, 0, 300)"
   ]
  },
  {
   "cell_type": "markdown",
   "metadata": {},
   "source": [
    "Our star example is a great instance of the power of **abstraction**.  Remember that abstraction is the process of hiding inner details and capturing essential similarities.  Here the implementation of our function captures what is similar among all five-pointed stars and wraps those details in a function.  The contract of the function allows the users to pass arguments to express the differences among stars.\n",
    "\n",
    "You may notice some repetition within the function `star`, in particular the repeated calls to `fd(length)` and `rt(144)`.  We can reduce this repetition through iteration.  We will get there in a few weeks!"
   ]
  },
  {
   "cell_type": "markdown",
   "metadata": {},
   "source": [
    "<a id=\"sec11\"></a>\n",
    "## 11. Exercise 4: Colorful Stars\n",
    "\n",
    "Suppose we want to be able to change the pen color for each star so the outline is a different color.  How should we amend our function to capture this difference?  You can change the pencolor with the function `pencolor(color)` where `color` is the color of the pen as a string.  Write your answer below."
   ]
  },
  {
   "cell_type": "code",
   "execution_count": null,
   "metadata": {},
   "outputs": [],
   "source": [
    "def colorfulStar(startX, startY, length, color):\n",
    "    # Your code here\n"
   ]
  },
  {
   "cell_type": "code",
   "execution_count": null,
   "metadata": {},
   "outputs": [],
   "source": [
    "reset()\n",
    "setupTurtle()\n",
    "speed(3) # help see your turtle draw in a slower speed\n",
    "colorfulStar(-100, 100, 100, 'red')\n",
    "colorfulStar(100, 100, 100, 'blue')\n",
    "colorfulStar(100, -100, 100, 'grey')\n",
    "colorfulStar(-100, -100, 100, 'cyan')"
   ]
  },
  {
   "cell_type": "markdown",
   "metadata": {},
   "source": [
    "<a id=\"sec12\"></a>\n",
    "## 12. Exercise 5: `drawRectangle`"
   ]
  },
  {
   "cell_type": "markdown",
   "metadata": {},
   "source": [
    "You have been using the python module `turtleBeads.py`.  It was developed by our lab instructor Peter Mawhorter.  Let's try and implement some of the functions provided to you by `turtleBeads.py`.\n",
    "\n",
    "Right now `turtleBeads.py` has a function called `drawRectangle` which draws a centered rectangle about the location of the turtle of height `height` and width `width`.\n",
    "\n",
    "Below define your own implementation of `drawRectangle`.  Note you will want to use `penup` and `pendown` since the rectangle needs to be centered about the starting position of the turle."
   ]
  },
  {
   "cell_type": "code",
   "execution_count": null,
   "metadata": {},
   "outputs": [],
   "source": [
    "def drawRectangle(width, height):\n",
    "    # Your code here\n"
   ]
  },
  {
   "cell_type": "markdown",
   "metadata": {},
   "source": [
    "Test your code below."
   ]
  },
  {
   "cell_type": "code",
   "execution_count": null,
   "metadata": {},
   "outputs": [],
   "source": [
    "reset()\n",
    "setupTurtle()\n",
    "drawRectangle(300, 400)"
   ]
  },
  {
   "cell_type": "markdown",
   "metadata": {},
   "source": [
    "<a id=\"sec13\"></a>\n",
    "## 13. Exercise 6: `drawSquare`\n",
    "\n",
    "`turtleBeads.py` also provides a very similar function to `drawRectangle(width, height)` called `drawSquare(size)`.  `drawSquare` is self-explanatory.  It is a function that draws a square centered around the current location of the turtle.  Below implement `drawSquare`.  Be judicious though.  How is a square similar to a rectangle?  Can you use something you've already created to implement `drawSquare`?"
   ]
  },
  {
   "cell_type": "code",
   "execution_count": null,
   "metadata": {},
   "outputs": [],
   "source": [
    "def drawSquare(size):\n",
    "    # Your code here\n"
   ]
  },
  {
   "cell_type": "markdown",
   "metadata": {},
   "source": [
    "Test your code below."
   ]
  },
  {
   "cell_type": "code",
   "execution_count": null,
   "metadata": {},
   "outputs": [],
   "source": [
    "reset()\n",
    "setupTurtle()\n",
    "drawSquare(300)"
   ]
  },
  {
   "cell_type": "markdown",
   "metadata": {},
   "source": [
    "<a id=\"sec14\"></a>\n",
    "## 14. Fish Tank\n",
    "\n",
    "Below is some code to draw a fish with a yellow body, black eye, and a green tail."
   ]
  },
  {
   "cell_type": "code",
   "execution_count": null,
   "metadata": {},
   "outputs": [],
   "source": [
    "def staticFish():\n",
    "    # Make the body by drawing a yellow elipses \n",
    "    fillcolor(\"yellow\")\n",
    "    begin_fill()\n",
    "    drawEllipse(50, 2) # 50 is radius and 2 is aspect ratio (makes it wider horizontally and thinner vertically)\n",
    "    end_fill()\n",
    "\n",
    "    # Make the eye by drawing a black circle to the upper right of the ellipse\n",
    "    penup()\n",
    "    fd(50)\n",
    "    lt(90)\n",
    "    fd(15)\n",
    "    rt(90)\n",
    "    pendown()\n",
    "    fillcolor(\"black\")\n",
    "    begin_fill()\n",
    "    drawCircle(10)\n",
    "    end_fill()\n",
    "\n",
    "    # Make the tail by drawing a green triangle on the left sideof the ellipse\n",
    "    penup()\n",
    "    rt(90)\n",
    "    fd(15)\n",
    "    rt(90)\n",
    "    fd(150)\n",
    "    lt(180)\n",
    "    pendown()\n",
    "    fillcolor(\"green\") \n",
    "    begin_fill()\n",
    "    rt(150)\n",
    "    fd(65)\n",
    "    rt(120)\n",
    "    fd(65)\n",
    "    rt(120)\n",
    "    fd(65)\n",
    "    lt(30)\n",
    "    end_fill()\n",
    "\n",
    "    # return the turtle back to the original starting point\n",
    "    penup()\n",
    "    fd(100)\n",
    "    pendown()\n",
    "\n",
    "reset()\n",
    "setupTurtle()\n",
    "staticFish()"
   ]
  },
  {
   "cell_type": "markdown",
   "metadata": {},
   "source": [
    "Our function is rather limited in that it always draws the same fish in the exact same position and orientation.  How can we expand our fish function to make it more flexible for drawing different kinds of fish?  First, let's identify some characteristics that should be different among fish?\n",
    "+ Body color\n",
    "+ Tail color\n",
    "+ Starting location\n",
    "+ Angle\n",
    "+ Size\n",
    "\n",
    "What should be similar for all fish?  Well it should be made of an ellipse, circle, and triangle and all of those pieces should still be proportional to each other. Below, amend the function header for `fish` below to capture these five differences and then implement each of the differences we stated above.  Work incrementally!  I suggest going in the order stated in our list above.  "
   ]
  },
  {
   "cell_type": "code",
   "execution_count": null,
   "metadata": {},
   "outputs": [],
   "source": [
    "def fish(bodyColor, tailColor, x, y, scale, angle):\n",
    "    # Your code here\n"
   ]
  },
  {
   "cell_type": "markdown",
   "metadata": {},
   "source": [
    "Below test your code.  You should have a very pretty fish tank with different fish."
   ]
  },
  {
   "cell_type": "code",
   "execution_count": null,
   "metadata": {},
   "outputs": [],
   "source": [
    "def drawCanvas(width, height, color):\n",
    "    teleport(0, 0)\n",
    "    fillcolor(color)\n",
    "    begin_fill()\n",
    "    drawRectangle(width, height)\n",
    "    end_fill()\n",
    "\n",
    "# Picture\n",
    "reset()\n",
    "setupTurtle()\n",
    "drawCanvas(800, 800, \"cyan\")\n",
    "fish(\"yellow\", \"green\", -175, 200, 1.5, 45)\n",
    "fish(\"blue\", \"red\", 100, 100, 0.5, -45)\n",
    "fish(\"purple\", \"blue\", -200, -200, 1, 0)\n",
    "fish(\"orange\", \"purple\", 150, -150, 1.5, -60)"
   ]
  },
  {
   "cell_type": "markdown",
   "metadata": {},
   "source": [
    "One important point to note.  A key aspect that made amending the `staticFish` function much less laborious was that the function didn't rely on `teleport()` to move the turtle from shape to shape.  Why was that helpful?  Changing the angle of the entire fish becomes much more complex if you need to recalculate the x and y coordinates of each teleport to account for the angle."
   ]
  },
  {
   "cell_type": "markdown",
   "metadata": {},
   "source": [
    "<a id=\"sec15\"></a>\n",
    "## 15. Fruitful Graphics\n",
    "\n",
    "We say that a function is fruitful if it returns a value.  If a function does not return a value, then we say the function is not fruitful.  Technically, functions without `return` do in fact return `None` but `None` serves as a placeholder to represent nothing.  All of the above graphic functions we have worked with have not been fruitful.  They draw pictures, which are side-effects, but do not return anything.  Let's now make some fruitful turtle graphics that return key statistics about the pictures drawn.\n",
    "\n",
    "Here is a simple example below that draws a triangle."
   ]
  },
  {
   "cell_type": "code",
   "execution_count": null,
   "metadata": {},
   "outputs": [],
   "source": [
    "def triangle(size):\n",
    "    rt(60)\n",
    "    fd(size)\n",
    "    rt(120)\n",
    "    fd(size)\n",
    "    rt(120)\n",
    "    fd(size)\n",
    "    rt(60)\n",
    "    \n",
    "reset()\n",
    "setupTurtle()\n",
    "triangle(50)"
   ]
  },
  {
   "cell_type": "markdown",
   "metadata": {},
   "source": [
    "Suppose we wanted to draw a triangle but also return the perimeter.  We can add to the function above by simply returning the perimeter at the end."
   ]
  },
  {
   "cell_type": "code",
   "execution_count": null,
   "metadata": {},
   "outputs": [],
   "source": [
    "def trianglePlusPerimeter(size):\n",
    "    rt(60)\n",
    "    fd(size)\n",
    "    rt(120)\n",
    "    fd(size)\n",
    "    rt(120)\n",
    "    fd(size)\n",
    "    rt(60)\n",
    "    return size * 3\n",
    "    \n",
    "reset()\n",
    "setupTurtle()\n",
    "trianglePlusPerimeter(50) # should return 150"
   ]
  },
  {
   "cell_type": "markdown",
   "metadata": {},
   "source": [
    "<a id=\"sec16\"></a>\n",
    "## 16. Exercise 7: Fruitful Square\n",
    "\n",
    "Below define a function that draws a square of side `size` and returns the perimeter of the square.  Unlike the `drawSquare` function from `turtleBeads.py`, let's not center the square around the starting point for simplicity.  Instead the starting point should be the upper left corner of the square."
   ]
  },
  {
   "cell_type": "code",
   "execution_count": null,
   "metadata": {},
   "outputs": [],
   "source": [
    "def squarePlusPerimeter(size):\n",
    "    # Your code here\n"
   ]
  },
  {
   "cell_type": "markdown",
   "metadata": {},
   "source": [
    "Test your code below.  It should return 400."
   ]
  },
  {
   "cell_type": "code",
   "execution_count": null,
   "metadata": {},
   "outputs": [],
   "source": [
    "reset()\n",
    "setupTurtle()\n",
    "squarePlusPerimeter(100)"
   ]
  },
  {
   "cell_type": "markdown",
   "metadata": {},
   "source": [
    "Now that we have two functions that can return perimeter, it becomes easy to get the perimeter of a canvas of shapes."
   ]
  },
  {
   "cell_type": "code",
   "execution_count": null,
   "metadata": {},
   "outputs": [],
   "source": [
    "reset()\n",
    "setupTurtle()\n",
    "\n",
    "totalSize = 0\n",
    "pu()\n",
    "bk(200)\n",
    "pd()\n",
    "totalSize += trianglePlusPerimeter(50)\n",
    "pu()\n",
    "fd(75)\n",
    "pd()\n",
    "totalSize += squarePlusPerimeter(50)\n",
    "pu()\n",
    "fd(125)\n",
    "pd()\n",
    "totalSize += trianglePlusPerimeter(50)\n",
    "pu()\n",
    "fd(75)\n",
    "pd()\n",
    "totalSize += squarePlusPerimeter(50)\n",
    "pu()\n",
    "fd(125)\n",
    "pd()\n",
    "totalSize += trianglePlusPerimeter(50)\n",
    "print(totalSize)"
   ]
  },
  {
   "cell_type": "markdown",
   "metadata": {},
   "source": [
    "<a id=\"sec17\"></a>\n",
    "## 17. Practice Writing Functions"
   ]
  },
  {
   "cell_type": "markdown",
   "metadata": {},
   "source": [
    "Pick one of the following and define a new function. It's good to have practice translating the English description into Python."
   ]
  },
  {
   "cell_type": "markdown",
   "metadata": {},
   "source": [
    "### A. squareDiff\n",
    "Define a function called `squareDiff` that takes two numbers and returns the positive difference between their squares (you can use `abs()`).\n",
    "`squareDiff(4, 3) returns 7; squareDiff(5, 11) returns 96.`\n",
    "thon."
   ]
  },
  {
   "cell_type": "code",
   "execution_count": null,
   "metadata": {},
   "outputs": [],
   "source": [
    "# Your code here\n"
   ]
  },
  {
   "cell_type": "code",
   "execution_count": null,
   "metadata": {},
   "outputs": [],
   "source": [
    "# Test your squareDiff function here\n",
    "print(squareDiff(10, 5)) # should print 75\n",
    "print(squareDiff(4, 3)) # should print 7\n",
    "print(squareDiff(5, 11)) # should print 96\n"
   ]
  },
  {
   "cell_type": "markdown",
   "metadata": {},
   "source": [
    "### B. lottery\n",
    "Given a function `lucky()` that returns a random integer between 1 and 100, define a function called `lottery` that will print 3 random lottery numbers with each number separated by a space.\n",
    "\n",
    "For example, `lottery()` might print 57 81 41."
   ]
  },
  {
   "cell_type": "code",
   "execution_count": null,
   "metadata": {},
   "outputs": [],
   "source": [
    "import random\n",
    "\n",
    "def lucky():\n",
    "    '''Returns a random integer between 1 and 100, inclusive'''\n",
    "    return random.randint(1,100)"
   ]
  },
  {
   "cell_type": "code",
   "execution_count": null,
   "metadata": {},
   "outputs": [],
   "source": [
    "# Your code here\n"
   ]
  },
  {
   "cell_type": "code",
   "execution_count": null,
   "metadata": {},
   "outputs": [],
   "source": [
    "lottery()"
   ]
  },
  {
   "cell_type": "code",
   "execution_count": null,
   "metadata": {},
   "outputs": [],
   "source": [
    "lottery()"
   ]
  },
  {
   "cell_type": "markdown",
   "metadata": {},
   "source": [
    "### C. greeting\n",
    "Define a function called `greeting` that asks for a user’s name using input(), and then prints a personalized greeting. E.g.   `Please tell me your name:  Joyce ` <br> `“Hi Joyce, hope you’re having a great day!” or something similar.`\n"
   ]
  },
  {
   "cell_type": "code",
   "execution_count": null,
   "metadata": {},
   "outputs": [],
   "source": [
    "# Your code here\n"
   ]
  },
  {
   "cell_type": "code",
   "execution_count": null,
   "metadata": {},
   "outputs": [],
   "source": [
    "greeting()"
   ]
  },
  {
   "cell_type": "code",
   "execution_count": null,
   "metadata": {},
   "outputs": [],
   "source": [
    "greeting()"
   ]
  },
  {
   "cell_type": "markdown",
   "metadata": {},
   "source": [
    "### D.  splitSquare\n",
    "Define a function called `splitSquare` that takes 2 colors and draws a size square using `turtleBeads`, where the left half is filled with one color, and the right half with the other color. For example, here is the picture drawn when we call `splitSquare(100, 'black', 'orange')`:\n",
    "<img src=\"splitSquare.png\" width=\"250\">"
   ]
  },
  {
   "cell_type": "code",
   "execution_count": null,
   "metadata": {},
   "outputs": [],
   "source": [
    "import turtle\n",
    "from turtleBeads import *\n",
    "\n",
    "# Your code here\n"
   ]
  },
  {
   "cell_type": "code",
   "execution_count": null,
   "metadata": {},
   "outputs": [],
   "source": [
    "reset()\n",
    "setupTurtle()\n",
    "\n",
    "splitSquare(100, 'red','pink')"
   ]
  },
  {
   "cell_type": "code",
   "execution_count": null,
   "metadata": {},
   "outputs": [],
   "source": []
  }
 ],
 "metadata": {
  "kernelspec": {
   "display_name": "Python 3 (ipykernel)",
   "language": "python",
   "name": "python3"
  },
  "language_info": {
   "codemirror_mode": {
    "name": "ipython",
    "version": 3
   },
   "file_extension": ".py",
   "mimetype": "text/x-python",
   "name": "python",
   "nbconvert_exporter": "python",
   "pygments_lexer": "ipython3",
   "version": "3.11.5"
  }
 },
 "nbformat": 4,
 "nbformat_minor": 4
}
